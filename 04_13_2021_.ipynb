{
  "nbformat": 4,
  "nbformat_minor": 0,
  "metadata": {
    "colab": {
      "name": "04-13-2021-.ipynb",
      "provenance": [],
      "collapsed_sections": [],
      "toc_visible": true,
      "authorship_tag": "ABX9TyOwPvXw99dX84OfcifGQRH9",
      "include_colab_link": true
    },
    "kernelspec": {
      "name": "python3",
      "display_name": "Python 3"
    },
    "language_info": {
      "name": "python"
    }
  },
  "cells": [
    {
      "cell_type": "markdown",
      "metadata": {
        "id": "view-in-github",
        "colab_type": "text"
      },
      "source": [
        "<a href=\"https://colab.research.google.com/github/sophiaxuu/proj4-compare-Baltimore-NewYork-household-income/blob/main/04_13_2021_.ipynb\" target=\"_parent\"><img src=\"https://colab.research.google.com/assets/colab-badge.svg\" alt=\"Open In Colab\"/></a>"
      ]
    },
    {
      "cell_type": "markdown",
      "metadata": {
        "id": "OqFtFalv9E14"
      },
      "source": [
        "# Comparing Household Income in Baltimore, MD and New York, NY\n",
        "\n",
        "\n",
        "\n",
        "\n",
        "\n"
      ]
    },
    {
      "cell_type": "markdown",
      "metadata": {
        "id": "Bom47-tm9kZa"
      },
      "source": [
        "*   How does the average household income differ between the two cities? \n",
        "*   How may parent's household income affect child's household income? "
      ]
    },
    {
      "cell_type": "markdown",
      "metadata": {
        "id": "13c6_0Hn9nVC"
      },
      "source": [
        "# Import Library"
      ]
    },
    {
      "cell_type": "code",
      "metadata": {
        "id": "0bdDOKhx9icW"
      },
      "source": [
        "# import libraries\n",
        "\n",
        "# data analysis\n",
        "import pandas as pd\n",
        "import numpy as np\n",
        "from functools import reduce\n",
        "\n",
        "# data visualization\n",
        "import matplotlib.pyplot as plt\n",
        "import plotly.express as px\n",
        "import plotly.graph_objects as go\n",
        "\n",
        "# download files to our computer\n",
        "from google.colab import files "
      ],
      "execution_count": null,
      "outputs": []
    },
    {
      "cell_type": "markdown",
      "metadata": {
        "id": "47zg1d5OGxTQ"
      },
      "source": [
        "# Import Datasets"
      ]
    },
    {
      "cell_type": "code",
      "metadata": {
        "id": "sX_0nmPPGwg5"
      },
      "source": [
        "# Import Baltimore Household Income datasets \n",
        "df_Bal_all = pd.read_csv(\"https://raw.githubusercontent.com/sophiaxuu/proj4-compare-Baltimore-NewYork-household-income/main/baltimore_all_parent_income_rP_gP_pall.csv\")\n",
        "df_Bal_high = pd.read_csv(\"https://raw.githubusercontent.com/sophiaxuu/proj4-compare-Baltimore-NewYork-household-income/main/baltimore_high_parent_income_rP_gP_p75.csv\")\n",
        "df_Bal_middle = pd.read_csv(\"https://raw.githubusercontent.com/sophiaxuu/proj4-compare-Baltimore-NewYork-household-income/main/baltimore_middle_parent_incomerP_gP_p50.csv\")\n",
        "df_Bal_low = pd.read_csv(\"https://raw.githubusercontent.com/sophiaxuu/proj4-compare-Baltimore-NewYork-household-income/main/baltimore_low_parent_income_rP_gP_p25.csv\")\n",
        "\n",
        "# Import New York Household Income datasets \n",
        "df_NY_all = pd.read_csv(\"https://raw.githubusercontent.com/sophiaxuu/proj4-compare-Baltimore-NewYork-household-income/main/ny_all_parent_income_rP_gP_pall.csv\")\n",
        "df_NY_high = pd.read_csv(\"https://raw.githubusercontent.com/sophiaxuu/proj4-compare-Baltimore-NewYork-household-income/main/ny_high_parent_income_rP_gP_p75.csv\")\n",
        "df_NY_middle = pd.read_csv(\"https://raw.githubusercontent.com/sophiaxuu/proj4-compare-Baltimore-NewYork-household-income/main/ny_middle_parent_income_rP_gP_p50.csv\")\n",
        "df_NY_low = pd.read_csv(\"https://raw.githubusercontent.com/sophiaxuu/proj4-compare-Baltimore-NewYork-household-income/main/ny_low_parent_income_rP_gP_p25.csv\")\n"
      ],
      "execution_count": null,
      "outputs": []
    },
    {
      "cell_type": "code",
      "metadata": {
        "colab": {
          "base_uri": "https://localhost:8080/",
          "height": 347
        },
        "id": "xUzPZqfpH0B-",
        "outputId": "61a6da51-552f-4ec9-8536-9fe2c4ddf1d7"
      },
      "source": [
        "# Preview data to check if import is successful \n",
        "# Notice here that not all rows is in Baltimnore \n",
        "df_Bal_all.head(10)"
      ],
      "execution_count": null,
      "outputs": [
        {
          "output_type": "execute_result",
          "data": {
            "text/html": [
              "<div>\n",
              "<style scoped>\n",
              "    .dataframe tbody tr th:only-of-type {\n",
              "        vertical-align: middle;\n",
              "    }\n",
              "\n",
              "    .dataframe tbody tr th {\n",
              "        vertical-align: top;\n",
              "    }\n",
              "\n",
              "    .dataframe thead th {\n",
              "        text-align: right;\n",
              "    }\n",
              "</style>\n",
              "<table border=\"1\" class=\"dataframe\">\n",
              "  <thead>\n",
              "    <tr style=\"text-align: right;\">\n",
              "      <th></th>\n",
              "      <th>tract</th>\n",
              "      <th>Name</th>\n",
              "      <th>Household_Income_Stayed_in_Commuting_Zone_rP_gP_pall</th>\n",
              "    </tr>\n",
              "  </thead>\n",
              "  <tbody>\n",
              "    <tr>\n",
              "      <th>0</th>\n",
              "      <td>24005403803</td>\n",
              "      <td>Pikesville, MD</td>\n",
              "      <td>76622.0</td>\n",
              "    </tr>\n",
              "    <tr>\n",
              "      <th>1</th>\n",
              "      <td>24005403601</td>\n",
              "      <td>Baltimore, MD</td>\n",
              "      <td>68109.0</td>\n",
              "    </tr>\n",
              "    <tr>\n",
              "      <th>2</th>\n",
              "      <td>24005490500</td>\n",
              "      <td>Towson, MD</td>\n",
              "      <td>66340.0</td>\n",
              "    </tr>\n",
              "    <tr>\n",
              "      <th>3</th>\n",
              "      <td>24027601104</td>\n",
              "      <td>Ellicott City, MD</td>\n",
              "      <td>65322.0</td>\n",
              "    </tr>\n",
              "    <tr>\n",
              "      <th>4</th>\n",
              "      <td>24005403500</td>\n",
              "      <td>Pikesville, MD</td>\n",
              "      <td>64865.0</td>\n",
              "    </tr>\n",
              "    <tr>\n",
              "      <th>5</th>\n",
              "      <td>24005400500</td>\n",
              "      <td>Catonsville, MD</td>\n",
              "      <td>64347.0</td>\n",
              "    </tr>\n",
              "    <tr>\n",
              "      <th>6</th>\n",
              "      <td>24005491000</td>\n",
              "      <td>Baltimore, MD</td>\n",
              "      <td>64047.0</td>\n",
              "    </tr>\n",
              "    <tr>\n",
              "      <th>7</th>\n",
              "      <td>24005400400</td>\n",
              "      <td>Catonsville, MD</td>\n",
              "      <td>63941.0</td>\n",
              "    </tr>\n",
              "    <tr>\n",
              "      <th>8</th>\n",
              "      <td>24005490400</td>\n",
              "      <td>Towson, MD</td>\n",
              "      <td>63182.0</td>\n",
              "    </tr>\n",
              "    <tr>\n",
              "      <th>9</th>\n",
              "      <td>24005490603</td>\n",
              "      <td>Baltimore, MD</td>\n",
              "      <td>59609.0</td>\n",
              "    </tr>\n",
              "  </tbody>\n",
              "</table>\n",
              "</div>"
            ],
            "text/plain": [
              "         tract  ... Household_Income_Stayed_in_Commuting_Zone_rP_gP_pall\n",
              "0  24005403803  ...                                            76622.0  \n",
              "1  24005403601  ...                                            68109.0  \n",
              "2  24005490500  ...                                            66340.0  \n",
              "3  24027601104  ...                                            65322.0  \n",
              "4  24005403500  ...                                            64865.0  \n",
              "5  24005400500  ...                                            64347.0  \n",
              "6  24005491000  ...                                            64047.0  \n",
              "7  24005400400  ...                                            63941.0  \n",
              "8  24005490400  ...                                            63182.0  \n",
              "9  24005490603  ...                                            59609.0  \n",
              "\n",
              "[10 rows x 3 columns]"
            ]
          },
          "metadata": {
            "tags": []
          },
          "execution_count": 84
        }
      ]
    },
    {
      "cell_type": "code",
      "metadata": {
        "colab": {
          "base_uri": "https://localhost:8080/",
          "height": 347
        },
        "id": "wL4YJxFZH8-X",
        "outputId": "6e76b836-9263-4e44-d3a5-490d9a647de0"
      },
      "source": [
        "# Preview data to check if import is successful \n",
        "df_NY_all.head(10)"
      ],
      "execution_count": null,
      "outputs": [
        {
          "output_type": "execute_result",
          "data": {
            "text/html": [
              "<div>\n",
              "<style scoped>\n",
              "    .dataframe tbody tr th:only-of-type {\n",
              "        vertical-align: middle;\n",
              "    }\n",
              "\n",
              "    .dataframe tbody tr th {\n",
              "        vertical-align: top;\n",
              "    }\n",
              "\n",
              "    .dataframe thead th {\n",
              "        text-align: right;\n",
              "    }\n",
              "</style>\n",
              "<table border=\"1\" class=\"dataframe\">\n",
              "  <thead>\n",
              "    <tr style=\"text-align: right;\">\n",
              "      <th></th>\n",
              "      <th>tract</th>\n",
              "      <th>Name</th>\n",
              "      <th>Household_Income_Stayed_in_Commuting_Zone_rP_gP_pall</th>\n",
              "    </tr>\n",
              "  </thead>\n",
              "  <tbody>\n",
              "    <tr>\n",
              "      <th>0</th>\n",
              "      <td>36061000900</td>\n",
              "      <td>Lower Manhattan, New York, NY</td>\n",
              "      <td>97485.0</td>\n",
              "    </tr>\n",
              "    <tr>\n",
              "      <th>1</th>\n",
              "      <td>36059406400</td>\n",
              "      <td>Garden City, NY</td>\n",
              "      <td>92716.0</td>\n",
              "    </tr>\n",
              "    <tr>\n",
              "      <th>2</th>\n",
              "      <td>36059302101</td>\n",
              "      <td>Roslyn, NY</td>\n",
              "      <td>91376.0</td>\n",
              "    </tr>\n",
              "    <tr>\n",
              "      <th>3</th>\n",
              "      <td>36059302501</td>\n",
              "      <td>Roslyn Heights, NY</td>\n",
              "      <td>90337.0</td>\n",
              "    </tr>\n",
              "    <tr>\n",
              "      <th>4</th>\n",
              "      <td>36059411500</td>\n",
              "      <td>Hewlett, NY</td>\n",
              "      <td>89945.0</td>\n",
              "    </tr>\n",
              "    <tr>\n",
              "      <th>5</th>\n",
              "      <td>36059517705</td>\n",
              "      <td>Glen Head, NY</td>\n",
              "      <td>88453.0</td>\n",
              "    </tr>\n",
              "    <tr>\n",
              "      <th>6</th>\n",
              "      <td>36059406501</td>\n",
              "      <td>Garden City, NY</td>\n",
              "      <td>88167.0</td>\n",
              "    </tr>\n",
              "    <tr>\n",
              "      <th>7</th>\n",
              "      <td>36059301700</td>\n",
              "      <td>Manhasset, NY</td>\n",
              "      <td>87499.0</td>\n",
              "    </tr>\n",
              "    <tr>\n",
              "      <th>8</th>\n",
              "      <td>36059412600</td>\n",
              "      <td>Rockville Centre, NY</td>\n",
              "      <td>87260.0</td>\n",
              "    </tr>\n",
              "    <tr>\n",
              "      <th>9</th>\n",
              "      <td>36061012800</td>\n",
              "      <td>Lenox Hill, New York, NY</td>\n",
              "      <td>86782.0</td>\n",
              "    </tr>\n",
              "  </tbody>\n",
              "</table>\n",
              "</div>"
            ],
            "text/plain": [
              "         tract  ... Household_Income_Stayed_in_Commuting_Zone_rP_gP_pall\n",
              "0  36061000900  ...                                            97485.0  \n",
              "1  36059406400  ...                                            92716.0  \n",
              "2  36059302101  ...                                            91376.0  \n",
              "3  36059302501  ...                                            90337.0  \n",
              "4  36059411500  ...                                            89945.0  \n",
              "5  36059517705  ...                                            88453.0  \n",
              "6  36059406501  ...                                            88167.0  \n",
              "7  36059301700  ...                                            87499.0  \n",
              "8  36059412600  ...                                            87260.0  \n",
              "9  36061012800  ...                                            86782.0  \n",
              "\n",
              "[10 rows x 3 columns]"
            ]
          },
          "metadata": {
            "tags": []
          },
          "execution_count": 85
        }
      ]
    },
    {
      "cell_type": "code",
      "metadata": {
        "colab": {
          "base_uri": "https://localhost:8080/"
        },
        "id": "mviP9_FJIL2C",
        "outputId": "16d61623-7fdc-4390-fee7-42e3330afc88"
      },
      "source": [
        "# Overall understanding of the dataset \n",
        "df_Bal_all.info()"
      ],
      "execution_count": null,
      "outputs": [
        {
          "output_type": "stream",
          "text": [
            "<class 'pandas.core.frame.DataFrame'>\n",
            "RangeIndex: 352 entries, 0 to 351\n",
            "Data columns (total 3 columns):\n",
            " #   Column                                                Non-Null Count  Dtype  \n",
            "---  ------                                                --------------  -----  \n",
            " 0   tract                                                 352 non-null    int64  \n",
            " 1   Name                                                  352 non-null    object \n",
            " 2   Household_Income_Stayed_in_Commuting_Zone_rP_gP_pall  348 non-null    float64\n",
            "dtypes: float64(1), int64(1), object(1)\n",
            "memory usage: 8.4+ KB\n"
          ],
          "name": "stdout"
        }
      ]
    },
    {
      "cell_type": "markdown",
      "metadata": {
        "id": "9hTqciccIgCN"
      },
      "source": [
        "# Filtering the data"
      ]
    },
    {
      "cell_type": "code",
      "metadata": {
        "colab": {
          "base_uri": "https://localhost:8080/",
          "height": 347
        },
        "id": "SZ1Rf6pQImAO",
        "outputId": "c2803757-2dff-41cb-b9fc-5b0ecfa94bf5"
      },
      "source": [
        "# Filter out data for Baltimore City only\n",
        "df_Bal_all= df_Bal_all[df_Bal_all[\"Name\"].str.contains(\"Baltimore, MD\")]\n",
        "df_Bal_high= df_Bal_high[df_Bal_high[\"Name\"].str.contains(\"Baltimore, MD\")]\n",
        "df_Bal_middle= df_Bal_middle[df_Bal_middle[\"Name\"].str.contains(\"Baltimore, MD\")]\n",
        "df_Bal_low= df_Bal_low[df_Bal_low[\"Name\"].str.contains(\"Baltimore, MD\")]\n",
        "\n",
        "# Check if filtering works\n",
        "df_Bal_all.head(10)"
      ],
      "execution_count": null,
      "outputs": [
        {
          "output_type": "execute_result",
          "data": {
            "text/html": [
              "<div>\n",
              "<style scoped>\n",
              "    .dataframe tbody tr th:only-of-type {\n",
              "        vertical-align: middle;\n",
              "    }\n",
              "\n",
              "    .dataframe tbody tr th {\n",
              "        vertical-align: top;\n",
              "    }\n",
              "\n",
              "    .dataframe thead th {\n",
              "        text-align: right;\n",
              "    }\n",
              "</style>\n",
              "<table border=\"1\" class=\"dataframe\">\n",
              "  <thead>\n",
              "    <tr style=\"text-align: right;\">\n",
              "      <th></th>\n",
              "      <th>tract</th>\n",
              "      <th>Name</th>\n",
              "      <th>Household_Income_Stayed_in_Commuting_Zone_rP_gP_pall</th>\n",
              "    </tr>\n",
              "  </thead>\n",
              "  <tbody>\n",
              "    <tr>\n",
              "      <th>1</th>\n",
              "      <td>24005403601</td>\n",
              "      <td>Baltimore, MD</td>\n",
              "      <td>68109.0</td>\n",
              "    </tr>\n",
              "    <tr>\n",
              "      <th>6</th>\n",
              "      <td>24005491000</td>\n",
              "      <td>Baltimore, MD</td>\n",
              "      <td>64047.0</td>\n",
              "    </tr>\n",
              "    <tr>\n",
              "      <th>9</th>\n",
              "      <td>24005490603</td>\n",
              "      <td>Baltimore, MD</td>\n",
              "      <td>59609.0</td>\n",
              "    </tr>\n",
              "    <tr>\n",
              "      <th>11</th>\n",
              "      <td>24510271200</td>\n",
              "      <td>Homeland, Baltimore, MD</td>\n",
              "      <td>59192.0</td>\n",
              "    </tr>\n",
              "    <tr>\n",
              "      <th>12</th>\n",
              "      <td>24510271501</td>\n",
              "      <td>Mount Washington, Baltimore, MD</td>\n",
              "      <td>58794.0</td>\n",
              "    </tr>\n",
              "    <tr>\n",
              "      <th>16</th>\n",
              "      <td>24510271400</td>\n",
              "      <td>Evergreen, Baltimore, MD</td>\n",
              "      <td>56479.0</td>\n",
              "    </tr>\n",
              "    <tr>\n",
              "      <th>17</th>\n",
              "      <td>24005490601</td>\n",
              "      <td>Baltimore, MD</td>\n",
              "      <td>56311.0</td>\n",
              "    </tr>\n",
              "    <tr>\n",
              "      <th>18</th>\n",
              "      <td>24005490602</td>\n",
              "      <td>Baltimore, MD</td>\n",
              "      <td>56144.0</td>\n",
              "    </tr>\n",
              "    <tr>\n",
              "      <th>19</th>\n",
              "      <td>24005491100</td>\n",
              "      <td>Baltimore, MD</td>\n",
              "      <td>55977.0</td>\n",
              "    </tr>\n",
              "    <tr>\n",
              "      <th>20</th>\n",
              "      <td>24005440100</td>\n",
              "      <td>Baltimore, MD</td>\n",
              "      <td>55809.0</td>\n",
              "    </tr>\n",
              "  </tbody>\n",
              "</table>\n",
              "</div>"
            ],
            "text/plain": [
              "          tract  ... Household_Income_Stayed_in_Commuting_Zone_rP_gP_pall\n",
              "1   24005403601  ...                                            68109.0  \n",
              "6   24005491000  ...                                            64047.0  \n",
              "9   24005490603  ...                                            59609.0  \n",
              "11  24510271200  ...                                            59192.0  \n",
              "12  24510271501  ...                                            58794.0  \n",
              "16  24510271400  ...                                            56479.0  \n",
              "17  24005490601  ...                                            56311.0  \n",
              "18  24005490602  ...                                            56144.0  \n",
              "19  24005491100  ...                                            55977.0  \n",
              "20  24005440100  ...                                            55809.0  \n",
              "\n",
              "[10 rows x 3 columns]"
            ]
          },
          "metadata": {
            "tags": []
          },
          "execution_count": 87
        }
      ]
    },
    {
      "cell_type": "code",
      "metadata": {
        "colab": {
          "base_uri": "https://localhost:8080/",
          "height": 347
        },
        "id": "7rr5mjN5Jvbn",
        "outputId": "6f57b598-6955-4aa3-8de3-f40bb73b1ee2"
      },
      "source": [
        "# Filter out data for New York City only\n",
        "df_NY_all= df_NY_all[df_NY_all[\"Name\"].str.contains(\"New York, NY\")]\n",
        "df_NY_high= df_NY_high[df_NY_high[\"Name\"].str.contains(\"New York, NY\")]\n",
        "df_NY_middle= df_NY_middle[df_NY_middle[\"Name\"].str.contains(\"New York, NY\")]\n",
        "df_NY_low= df_NY_low[df_NY_low[\"Name\"].str.contains(\"New York, NY\")]\n",
        "\n",
        "# Check if filtering works\n",
        "df_NY_all.head(10)"
      ],
      "execution_count": null,
      "outputs": [
        {
          "output_type": "execute_result",
          "data": {
            "text/html": [
              "<div>\n",
              "<style scoped>\n",
              "    .dataframe tbody tr th:only-of-type {\n",
              "        vertical-align: middle;\n",
              "    }\n",
              "\n",
              "    .dataframe tbody tr th {\n",
              "        vertical-align: top;\n",
              "    }\n",
              "\n",
              "    .dataframe thead th {\n",
              "        text-align: right;\n",
              "    }\n",
              "</style>\n",
              "<table border=\"1\" class=\"dataframe\">\n",
              "  <thead>\n",
              "    <tr style=\"text-align: right;\">\n",
              "      <th></th>\n",
              "      <th>tract</th>\n",
              "      <th>Name</th>\n",
              "      <th>Household_Income_Stayed_in_Commuting_Zone_rP_gP_pall</th>\n",
              "    </tr>\n",
              "  </thead>\n",
              "  <tbody>\n",
              "    <tr>\n",
              "      <th>0</th>\n",
              "      <td>36061000900</td>\n",
              "      <td>Lower Manhattan, New York, NY</td>\n",
              "      <td>97485.0</td>\n",
              "    </tr>\n",
              "    <tr>\n",
              "      <th>9</th>\n",
              "      <td>36061012800</td>\n",
              "      <td>Lenox Hill, New York, NY</td>\n",
              "      <td>86782.0</td>\n",
              "    </tr>\n",
              "    <tr>\n",
              "      <th>10</th>\n",
              "      <td>36061013000</td>\n",
              "      <td>Lenox Hill, New York, NY</td>\n",
              "      <td>86402.0</td>\n",
              "    </tr>\n",
              "    <tr>\n",
              "      <th>16</th>\n",
              "      <td>36061015001</td>\n",
              "      <td>Upper East Side, New York, NY</td>\n",
              "      <td>82648.0</td>\n",
              "    </tr>\n",
              "    <tr>\n",
              "      <th>34</th>\n",
              "      <td>36061015002</td>\n",
              "      <td>Upper East Side, New York, NY</td>\n",
              "      <td>79508.0</td>\n",
              "    </tr>\n",
              "    <tr>\n",
              "      <th>41</th>\n",
              "      <td>36061016001</td>\n",
              "      <td>Upper East Side, New York, NY</td>\n",
              "      <td>78455.0</td>\n",
              "    </tr>\n",
              "    <tr>\n",
              "      <th>54</th>\n",
              "      <td>36061014200</td>\n",
              "      <td>Upper East Side, New York, NY</td>\n",
              "      <td>76871.0</td>\n",
              "    </tr>\n",
              "    <tr>\n",
              "      <th>61</th>\n",
              "      <td>36061010601</td>\n",
              "      <td>Midtown, New York, NY</td>\n",
              "      <td>76269.0</td>\n",
              "    </tr>\n",
              "    <tr>\n",
              "      <th>91</th>\n",
              "      <td>36061014802</td>\n",
              "      <td>Upper East Side, New York, NY</td>\n",
              "      <td>73994.0</td>\n",
              "    </tr>\n",
              "    <tr>\n",
              "      <th>100</th>\n",
              "      <td>36061008603</td>\n",
              "      <td>Midtown, New York, NY</td>\n",
              "      <td>73520.0</td>\n",
              "    </tr>\n",
              "  </tbody>\n",
              "</table>\n",
              "</div>"
            ],
            "text/plain": [
              "           tract  ... Household_Income_Stayed_in_Commuting_Zone_rP_gP_pall\n",
              "0    36061000900  ...                                            97485.0  \n",
              "9    36061012800  ...                                            86782.0  \n",
              "10   36061013000  ...                                            86402.0  \n",
              "16   36061015001  ...                                            82648.0  \n",
              "34   36061015002  ...                                            79508.0  \n",
              "41   36061016001  ...                                            78455.0  \n",
              "54   36061014200  ...                                            76871.0  \n",
              "61   36061010601  ...                                            76269.0  \n",
              "91   36061014802  ...                                            73994.0  \n",
              "100  36061008603  ...                                            73520.0  \n",
              "\n",
              "[10 rows x 3 columns]"
            ]
          },
          "metadata": {
            "tags": []
          },
          "execution_count": 88
        }
      ]
    },
    {
      "cell_type": "markdown",
      "metadata": {
        "id": "N2-aeEbRhYPx"
      },
      "source": [
        "# Cleaning the datasets "
      ]
    },
    {
      "cell_type": "code",
      "metadata": {
        "id": "A8VL76Lnhe_N"
      },
      "source": [
        "# remove all void value in Baltimore datasets\n",
        "df_Bal_all = df_Bal_all.dropna()\n",
        "df_Bal_high = df_Bal_high.dropna()\n",
        "df_Bal_middle = df_Bal_middle.dropna()\n",
        "df_Bal_low = df_Bal_low.dropna()\n",
        "\n",
        "# remove all void value in New York datasets\n",
        "df_NY_all = df_NY_all.dropna()\n",
        "df_NY_high = df_NY_high.dropna()\n",
        "df_NY_middle = df_NY_middle.dropna()\n",
        "df_NY_low = df_NY_low.dropna()"
      ],
      "execution_count": null,
      "outputs": []
    },
    {
      "cell_type": "markdown",
      "metadata": {
        "id": "O_fAvfKge6vs"
      },
      "source": [
        "# Plot Average Individual Income for residents in Baltimore vs New York"
      ]
    },
    {
      "cell_type": "markdown",
      "metadata": {
        "id": "Z5Rog63LkNsY"
      },
      "source": [
        "## Calculate the average household income in Baltimore and New York"
      ]
    },
    {
      "cell_type": "code",
      "metadata": {
        "colab": {
          "base_uri": "https://localhost:8080/"
        },
        "id": "Hw_pGM8-gsFW",
        "outputId": "4351d5b9-5ec3-443f-8cf1-83774a39a0c4"
      },
      "source": [
        "# Take Average of Household_Income in Baltimore \n",
        "income_Bal_all = df_Bal_all['Household_Income_Stayed_in_Commuting_Zone_rP_gP_pall'] \n",
        "avg_Bal_income = sum(income_Bal_all)/len(income_Bal_all)\n",
        "print(avg_Bal_income)\n",
        "\n",
        "# Take Average of Household_Income in New York \n",
        "income_NY_all = df_NY_all['Household_Income_Stayed_in_Commuting_Zone_rP_gP_pall'] \n",
        "avg_NY_income = sum(income_NY_all)/len(income_NY_all)\n",
        "print(avg_NY_income)"
      ],
      "execution_count": null,
      "outputs": [
        {
          "output_type": "stream",
          "text": [
            "29685.94298245614\n",
            "43919.86496350365\n"
          ],
          "name": "stdout"
        }
      ]
    },
    {
      "cell_type": "markdown",
      "metadata": {
        "id": "ogurFt7DkU7m"
      },
      "source": [
        "## Figure 1: Average Individual Income for residents in Baltimore vs New York"
      ]
    },
    {
      "cell_type": "code",
      "metadata": {
        "colab": {
          "base_uri": "https://localhost:8080/",
          "height": 354
        },
        "id": "d0jA2JHJkZA2",
        "outputId": "63b55d43-5688-481e-dff2-c76d1621c33e"
      },
      "source": [
        "# Plot for bar chart \n",
        "fig1 = plt.figure()\n",
        "ax = fig1.add_axes([0,0,1,1])\n",
        "x = ['Baltimore', 'New York']\n",
        "y = [avg_Bal_income, avg_NY_income]\n",
        "ax.bar(x,y)\n",
        "plt.title('Figure 1: Avarege Individual Income for residents in Baltimore vs New York', fontsize=16)\n",
        "plt.show()"
      ],
      "execution_count": null,
      "outputs": [
        {
          "output_type": "display_data",
          "data": {
            "image/png": "[encoded data removed]",
            "text/plain": [
              "<Figure size 432x288 with 1 Axes>"
            ]
          },
          "metadata": {
            "tags": [],
            "needs_background": "light"
          }
        }
      ]
    },
    {
      "cell_type": "code",
      "metadata": {
        "colab": {
          "base_uri": "https://localhost:8080/",
          "height": 16
        },
        "id": "XXtStRDpvn8D",
        "outputId": "93395fab-c042-45a8-997b-fbc004d01047"
      },
      "source": [
        "# save the figure1\n",
        "fig1.savefig(\"avg_ind_income_comparison.png\")\n",
        "\n",
        "# downloading the figure\n",
        "files.download(\"avg_ind_income_comparison.png\")"
      ],
      "execution_count": null,
      "outputs": [
        {
          "output_type": "display_data",
          "data": {
            "application/javascript": [
              "\n",
              "    async function download(id, filename, size) {\n",
              "      if (!google.colab.kernel.accessAllowed) {\n",
              "        return;\n",
              "      }\n",
              "      const div = document.createElement('div');\n",
              "      const label = document.createElement('label');\n",
              "      label.textContent = `Downloading \"${filename}\": `;\n",
              "      div.appendChild(label);\n",
              "      const progress = document.createElement('progress');\n",
              "      progress.max = size;\n",
              "      div.appendChild(progress);\n",
              "      document.body.appendChild(div);\n",
              "\n",
              "      const buffers = [];\n",
              "      let downloaded = 0;\n",
              "\n",
              "      const channel = await google.colab.kernel.comms.open(id);\n",
              "      // Send a message to notify the kernel that we're ready.\n",
              "      channel.send({})\n",
              "\n",
              "      for await (const message of channel.messages) {\n",
              "        // Send a message to notify the kernel that we're ready.\n",
              "        channel.send({})\n",
              "        if (message.buffers) {\n",
              "          for (const buffer of message.buffers) {\n",
              "            buffers.push(buffer);\n",
              "            downloaded += buffer.byteLength;\n",
              "            progress.value = downloaded;\n",
              "          }\n",
              "        }\n",
              "      }\n",
              "      const blob = new Blob(buffers, {type: 'application/binary'});\n",
              "      const a = document.createElement('a');\n",
              "      a.href = window.URL.createObjectURL(blob);\n",
              "      a.download = filename;\n",
              "      div.appendChild(a);\n",
              "      a.click();\n",
              "      div.remove();\n",
              "    }\n",
              "  "
            ],
            "text/plain": [
              "<IPython.core.display.Javascript object>"
            ]
          },
          "metadata": {
            "tags": []
          }
        },
        {
          "output_type": "display_data",
          "data": {
            "application/javascript": [
              "download(\"download_d140dc2e-b731-4fc7-bcd2-cc54acea3689\", \"avg_ind_income_comparison.png\", 1365)"
            ],
            "text/plain": [
              "<IPython.core.display.Javascript object>"
            ]
          },
          "metadata": {
            "tags": []
          }
        }
      ]
    },
    {
      "cell_type": "markdown",
      "metadata": {
        "id": "_9RkqdzllkHG"
      },
      "source": [
        "# Plot Average Residents Income by Parents' Income Level in Baltimore and New York "
      ]
    },
    {
      "cell_type": "markdown",
      "metadata": {
        "id": "UMOy1s64Ju-G"
      },
      "source": [
        "## Merging datasets"
      ]
    },
    {
      "cell_type": "code",
      "metadata": {
        "colab": {
          "base_uri": "https://localhost:8080/",
          "height": 301
        },
        "id": "-IGi4SVvKnxD",
        "outputId": "9f54d7b6-1d27-457f-cf87-41acaba8a1d9"
      },
      "source": [
        "# New dataframe to merge Baltimore datasets\n",
        "data_frames_Bal = [df_Bal_high, df_Bal_middle, df_Bal_low]\n",
        "\n",
        "# Merge by function reduce \n",
        "df_Bal_merged = reduce(lambda  left,right: pd.merge(left,right,on=[\"Name\", \"tract\"], how=\"left\"), data_frames_Bal).fillna('void')\n",
        "\n",
        "# Change Value Under Name to be Baltimore\n",
        "df_Bal_merged[\"Name\"] = np.where(df_Bal_merged[\"Name\"] == df_Bal_merged[\"Name\"].str.contains(\"Baltimore, MD\"), \"Baltimore, MD\", \"Baltimore, MD\")\n",
        "\n",
        "# Check if merge work \n",
        "df_Bal_merged.head()"
      ],
      "execution_count": null,
      "outputs": [
        {
          "output_type": "execute_result",
          "data": {
            "text/html": [
              "<div>\n",
              "<style scoped>\n",
              "    .dataframe tbody tr th:only-of-type {\n",
              "        vertical-align: middle;\n",
              "    }\n",
              "\n",
              "    .dataframe tbody tr th {\n",
              "        vertical-align: top;\n",
              "    }\n",
              "\n",
              "    .dataframe thead th {\n",
              "        text-align: right;\n",
              "    }\n",
              "</style>\n",
              "<table border=\"1\" class=\"dataframe\">\n",
              "  <thead>\n",
              "    <tr style=\"text-align: right;\">\n",
              "      <th></th>\n",
              "      <th>tract</th>\n",
              "      <th>Name</th>\n",
              "      <th>Household_Income_Stayed_in_Commuting_Zone_rP_gP_p75</th>\n",
              "      <th>Household_Income_Stayed_in_Commuting_Zone_rP_gP_p50</th>\n",
              "      <th>Household_Income_Stayed_in_Commuting_Zone_rP_gP_p25</th>\n",
              "    </tr>\n",
              "  </thead>\n",
              "  <tbody>\n",
              "    <tr>\n",
              "      <th>0</th>\n",
              "      <td>24005403601</td>\n",
              "      <td>Baltimore, MD</td>\n",
              "      <td>67143.0</td>\n",
              "      <td>61472.0</td>\n",
              "      <td>56327</td>\n",
              "    </tr>\n",
              "    <tr>\n",
              "      <th>1</th>\n",
              "      <td>24005440100</td>\n",
              "      <td>Baltimore, MD</td>\n",
              "      <td>66178.0</td>\n",
              "      <td>47423.0</td>\n",
              "      <td>33346</td>\n",
              "    </tr>\n",
              "    <tr>\n",
              "      <th>2</th>\n",
              "      <td>24510261100</td>\n",
              "      <td>Baltimore, MD</td>\n",
              "      <td>62153.0</td>\n",
              "      <td>44451.0</td>\n",
              "      <td>30911</td>\n",
              "    </tr>\n",
              "    <tr>\n",
              "      <th>3</th>\n",
              "      <td>24005491000</td>\n",
              "      <td>Baltimore, MD</td>\n",
              "      <td>61071.0</td>\n",
              "      <td>56440.0</td>\n",
              "      <td>52224</td>\n",
              "    </tr>\n",
              "    <tr>\n",
              "      <th>4</th>\n",
              "      <td>24510260605</td>\n",
              "      <td>Baltimore, MD</td>\n",
              "      <td>58997.0</td>\n",
              "      <td>41091.0</td>\n",
              "      <td>27190</td>\n",
              "    </tr>\n",
              "  </tbody>\n",
              "</table>\n",
              "</div>"
            ],
            "text/plain": [
              "         tract  ... Household_Income_Stayed_in_Commuting_Zone_rP_gP_p25\n",
              "0  24005403601  ...                                              56327 \n",
              "1  24005440100  ...                                              33346 \n",
              "2  24510261100  ...                                              30911 \n",
              "3  24005491000  ...                                              52224 \n",
              "4  24510260605  ...                                              27190 \n",
              "\n",
              "[5 rows x 5 columns]"
            ]
          },
          "metadata": {
            "tags": []
          },
          "execution_count": 115
        }
      ]
    },
    {
      "cell_type": "code",
      "metadata": {
        "colab": {
          "base_uri": "https://localhost:8080/",
          "height": 384
        },
        "id": "xhfZ3hT1H4Uf",
        "outputId": "1b00a945-1454-4f7c-dff1-4062d2b3d9bc"
      },
      "source": [
        "# New dataframe to merge New York datasets\n",
        "data_frames_NY = [df_NY_high, df_NY_middle, df_NY_low]\n",
        "\n",
        "# Merge by function reduce \n",
        "df_NY_merged = reduce(lambda  left,right: pd.merge(left,right,on=[\"Name\", \"tract\"], how=\"left\"), data_frames_NY).fillna('void')\n",
        "\n",
        "# Change Value Under Name to be New York\n",
        "df_NY_merged[\"Name\"] = np.where(df_NY_merged[\"Name\"] == df_NY_merged[\"Name\"].str.contains(\"New York, NY\"), \"New York, NY\", \"New York, NY\")\n",
        "\n",
        "\n",
        "# Check if merge work \n",
        "df_NY_merged.head()"
      ],
      "execution_count": null,
      "outputs": [
        {
          "output_type": "execute_result",
          "data": {
            "text/html": [
              "<div>\n",
              "<style scoped>\n",
              "    .dataframe tbody tr th:only-of-type {\n",
              "        vertical-align: middle;\n",
              "    }\n",
              "\n",
              "    .dataframe tbody tr th {\n",
              "        vertical-align: top;\n",
              "    }\n",
              "\n",
              "    .dataframe thead th {\n",
              "        text-align: right;\n",
              "    }\n",
              "</style>\n",
              "<table border=\"1\" class=\"dataframe\">\n",
              "  <thead>\n",
              "    <tr style=\"text-align: right;\">\n",
              "      <th></th>\n",
              "      <th>tract</th>\n",
              "      <th>Name</th>\n",
              "      <th>Household_Income_Stayed_in_Commuting_Zone_rP_gP_p75</th>\n",
              "      <th>Household_Income_Stayed_in_Commuting_Zone_rP_gP_p50</th>\n",
              "      <th>Household_Income_Stayed_in_Commuting_Zone_rP_gP_p25</th>\n",
              "    </tr>\n",
              "  </thead>\n",
              "  <tbody>\n",
              "    <tr>\n",
              "      <th>0</th>\n",
              "      <td>36061002700</td>\n",
              "      <td>New York, NY</td>\n",
              "      <td>93596.0</td>\n",
              "      <td>67027.0</td>\n",
              "      <td>47631</td>\n",
              "    </tr>\n",
              "    <tr>\n",
              "      <th>1</th>\n",
              "      <td>36061000800</td>\n",
              "      <td>New York, NY</td>\n",
              "      <td>86286.0</td>\n",
              "      <td>64891.0</td>\n",
              "      <td>48460</td>\n",
              "    </tr>\n",
              "    <tr>\n",
              "      <th>2</th>\n",
              "      <td>36061001800</td>\n",
              "      <td>New York, NY</td>\n",
              "      <td>85568.0</td>\n",
              "      <td>62445.0</td>\n",
              "      <td>45174</td>\n",
              "    </tr>\n",
              "    <tr>\n",
              "      <th>3</th>\n",
              "      <td>36061002900</td>\n",
              "      <td>New York, NY</td>\n",
              "      <td>83710.0</td>\n",
              "      <td>64059.0</td>\n",
              "      <td>48722</td>\n",
              "    </tr>\n",
              "    <tr>\n",
              "      <th>4</th>\n",
              "      <td>36061001600</td>\n",
              "      <td>New York, NY</td>\n",
              "      <td>78267.0</td>\n",
              "      <td>61263.0</td>\n",
              "      <td>47755</td>\n",
              "    </tr>\n",
              "  </tbody>\n",
              "</table>\n",
              "</div>"
            ],
            "text/plain": [
              "         tract  ... Household_Income_Stayed_in_Commuting_Zone_rP_gP_p25\n",
              "0  36061002700  ...                                              47631 \n",
              "1  36061000800  ...                                              48460 \n",
              "2  36061001800  ...                                              45174 \n",
              "3  36061002900  ...                                              48722 \n",
              "4  36061001600  ...                                              47755 \n",
              "\n",
              "[5 rows x 5 columns]"
            ]
          },
          "metadata": {
            "tags": []
          },
          "execution_count": 116
        }
      ]
    },
    {
      "cell_type": "code",
      "metadata": {
        "id": "ySX1Q-pYmlwb"
      },
      "source": [
        "# Combine two dataframe \n",
        "df_Bal_NY_merged = pd.concat([df_Bal_merged, df_NY_merged], axis = 0, sort = False)"
      ],
      "execution_count": null,
      "outputs": []
    },
    {
      "cell_type": "code",
      "metadata": {
        "colab": {
          "base_uri": "https://localhost:8080/",
          "height": 301
        },
        "id": "MT3RJ7tdnaXy",
        "outputId": "45181daa-4344-4ef1-e571-9d0da2a04ef5"
      },
      "source": [
        "# Show Head of merged data\n",
        "df_Bal_NY_merged.head()"
      ],
      "execution_count": null,
      "outputs": [
        {
          "output_type": "execute_result",
          "data": {
            "text/html": [
              "<div>\n",
              "<style scoped>\n",
              "    .dataframe tbody tr th:only-of-type {\n",
              "        vertical-align: middle;\n",
              "    }\n",
              "\n",
              "    .dataframe tbody tr th {\n",
              "        vertical-align: top;\n",
              "    }\n",
              "\n",
              "    .dataframe thead th {\n",
              "        text-align: right;\n",
              "    }\n",
              "</style>\n",
              "<table border=\"1\" class=\"dataframe\">\n",
              "  <thead>\n",
              "    <tr style=\"text-align: right;\">\n",
              "      <th></th>\n",
              "      <th>tract</th>\n",
              "      <th>Name</th>\n",
              "      <th>Household_Income_Stayed_in_Commuting_Zone_rP_gP_p75</th>\n",
              "      <th>Household_Income_Stayed_in_Commuting_Zone_rP_gP_p50</th>\n",
              "      <th>Household_Income_Stayed_in_Commuting_Zone_rP_gP_p25</th>\n",
              "    </tr>\n",
              "  </thead>\n",
              "  <tbody>\n",
              "    <tr>\n",
              "      <th>0</th>\n",
              "      <td>24005403601</td>\n",
              "      <td>Baltimore, MD</td>\n",
              "      <td>67143.0</td>\n",
              "      <td>61472.0</td>\n",
              "      <td>56327</td>\n",
              "    </tr>\n",
              "    <tr>\n",
              "      <th>1</th>\n",
              "      <td>24005440100</td>\n",
              "      <td>Baltimore, MD</td>\n",
              "      <td>66178.0</td>\n",
              "      <td>47423.0</td>\n",
              "      <td>33346</td>\n",
              "    </tr>\n",
              "    <tr>\n",
              "      <th>2</th>\n",
              "      <td>24510261100</td>\n",
              "      <td>Baltimore, MD</td>\n",
              "      <td>62153.0</td>\n",
              "      <td>44451.0</td>\n",
              "      <td>30911</td>\n",
              "    </tr>\n",
              "    <tr>\n",
              "      <th>3</th>\n",
              "      <td>24005491000</td>\n",
              "      <td>Baltimore, MD</td>\n",
              "      <td>61071.0</td>\n",
              "      <td>56440.0</td>\n",
              "      <td>52224</td>\n",
              "    </tr>\n",
              "    <tr>\n",
              "      <th>4</th>\n",
              "      <td>24510260605</td>\n",
              "      <td>Baltimore, MD</td>\n",
              "      <td>58997.0</td>\n",
              "      <td>41091.0</td>\n",
              "      <td>27190</td>\n",
              "    </tr>\n",
              "  </tbody>\n",
              "</table>\n",
              "</div>"
            ],
            "text/plain": [
              "         tract  ... Household_Income_Stayed_in_Commuting_Zone_rP_gP_p25\n",
              "0  24005403601  ...                                              56327 \n",
              "1  24005440100  ...                                              33346 \n",
              "2  24510261100  ...                                              30911 \n",
              "3  24005491000  ...                                              52224 \n",
              "4  24510260605  ...                                              27190 \n",
              "\n",
              "[5 rows x 5 columns]"
            ]
          },
          "metadata": {
            "tags": []
          },
          "execution_count": 118
        }
      ]
    },
    {
      "cell_type": "code",
      "metadata": {
        "colab": {
          "base_uri": "https://localhost:8080/",
          "height": 384
        },
        "id": "J5KJszVAnafr",
        "outputId": "e42a0a4d-6b8a-47f9-a953-16ab6d8b4a39"
      },
      "source": [
        "# Show Tail of merged data\n",
        "df_Bal_NY_merged.tail()"
      ],
      "execution_count": null,
      "outputs": [
        {
          "output_type": "execute_result",
          "data": {
            "text/html": [
              "<div>\n",
              "<style scoped>\n",
              "    .dataframe tbody tr th:only-of-type {\n",
              "        vertical-align: middle;\n",
              "    }\n",
              "\n",
              "    .dataframe tbody tr th {\n",
              "        vertical-align: top;\n",
              "    }\n",
              "\n",
              "    .dataframe thead th {\n",
              "        text-align: right;\n",
              "    }\n",
              "</style>\n",
              "<table border=\"1\" class=\"dataframe\">\n",
              "  <thead>\n",
              "    <tr style=\"text-align: right;\">\n",
              "      <th></th>\n",
              "      <th>tract</th>\n",
              "      <th>Name</th>\n",
              "      <th>Household_Income_Stayed_in_Commuting_Zone_rP_gP_p75</th>\n",
              "      <th>Household_Income_Stayed_in_Commuting_Zone_rP_gP_p50</th>\n",
              "      <th>Household_Income_Stayed_in_Commuting_Zone_rP_gP_p25</th>\n",
              "    </tr>\n",
              "  </thead>\n",
              "  <tbody>\n",
              "    <tr>\n",
              "      <th>269</th>\n",
              "      <td>36061021600</td>\n",
              "      <td>New York, NY</td>\n",
              "      <td>24987.0</td>\n",
              "      <td>24316.0</td>\n",
              "      <td>23662</td>\n",
              "    </tr>\n",
              "    <tr>\n",
              "      <th>270</th>\n",
              "      <td>36061002202</td>\n",
              "      <td>New York, NY</td>\n",
              "      <td>24306.0</td>\n",
              "      <td>26383.0</td>\n",
              "      <td>28419</td>\n",
              "    </tr>\n",
              "    <tr>\n",
              "      <th>271</th>\n",
              "      <td>36061021303</td>\n",
              "      <td>New York, NY</td>\n",
              "      <td>23552.0</td>\n",
              "      <td>24651.0</td>\n",
              "      <td>25722</td>\n",
              "    </tr>\n",
              "    <tr>\n",
              "      <th>272</th>\n",
              "      <td>36061022200</td>\n",
              "      <td>New York, NY</td>\n",
              "      <td>22407.0</td>\n",
              "      <td>22345.0</td>\n",
              "      <td>22284</td>\n",
              "    </tr>\n",
              "    <tr>\n",
              "      <th>273</th>\n",
              "      <td>36061023502</td>\n",
              "      <td>New York, NY</td>\n",
              "      <td>16352.0</td>\n",
              "      <td>19193.0</td>\n",
              "      <td>22056</td>\n",
              "    </tr>\n",
              "  </tbody>\n",
              "</table>\n",
              "</div>"
            ],
            "text/plain": [
              "           tract  ... Household_Income_Stayed_in_Commuting_Zone_rP_gP_p25\n",
              "269  36061021600  ...                                              23662 \n",
              "270  36061002202  ...                                              28419 \n",
              "271  36061021303  ...                                              25722 \n",
              "272  36061022200  ...                                              22284 \n",
              "273  36061023502  ...                                              22056 \n",
              "\n",
              "[5 rows x 5 columns]"
            ]
          },
          "metadata": {
            "tags": []
          },
          "execution_count": 119
        }
      ]
    },
    {
      "cell_type": "markdown",
      "metadata": {
        "id": "kLBQnRuKMMmz"
      },
      "source": [
        "## Cleaning Merged Data  "
      ]
    },
    {
      "cell_type": "code",
      "metadata": {
        "colab": {
          "base_uri": "https://localhost:8080/"
        },
        "id": "7-6HPRTDML0l",
        "outputId": "faa77dcc-4476-45af-b08f-05f98f7267c1"
      },
      "source": [
        "df_Bal_NY_merged.columns.tolist()"
      ],
      "execution_count": null,
      "outputs": [
        {
          "output_type": "execute_result",
          "data": {
            "text/plain": [
              "['tract',\n",
              " 'Name',\n",
              " 'Household_Income_Stayed_in_Commuting_Zone_rP_gP_p75',\n",
              " 'Household_Income_Stayed_in_Commuting_Zone_rP_gP_p50',\n",
              " 'Household_Income_Stayed_in_Commuting_Zone_rP_gP_p25']"
            ]
          },
          "metadata": {
            "tags": []
          },
          "execution_count": 120
        }
      ]
    },
    {
      "cell_type": "code",
      "metadata": {
        "id": "9aKAypq9ov5c"
      },
      "source": [
        "# Drop null values \n",
        "df_Bal_NY_merged.dropna()\n",
        "\n",
        "# Remove void values \n",
        "df_Bal_NY_merged = df_Bal_NY_merged[df_Bal_NY_merged[\"Household_Income_Stayed_in_Commuting_Zone_rP_gP_p75\"] != \"void\"]\n",
        "df_Bal_NY_merged = df_Bal_NY_merged[df_Bal_NY_merged[\"Household_Income_Stayed_in_Commuting_Zone_rP_gP_p50\"] != \"void\"]\n",
        "df_Bal_NY_merged = df_Bal_NY_merged[df_Bal_NY_merged[\"Household_Income_Stayed_in_Commuting_Zone_rP_gP_p25\"] != \"void\"]\n"
      ],
      "execution_count": null,
      "outputs": []
    },
    {
      "cell_type": "code",
      "metadata": {
        "id": "TcgV4SSMs0x3"
      },
      "source": [
        ""
      ],
      "execution_count": null,
      "outputs": []
    },
    {
      "cell_type": "code",
      "metadata": {
        "colab": {
          "base_uri": "https://localhost:8080/"
        },
        "id": "wILnm6kNL36E",
        "outputId": "882a6305-f571-42ce-89e6-7ef29d686b74"
      },
      "source": [
        "df_Bal_NY_merged[\"Name\"].unique()"
      ],
      "execution_count": null,
      "outputs": [
        {
          "output_type": "execute_result",
          "data": {
            "text/plain": [
              "array(['Baltimore, MD', 'New York, NY'], dtype=object)"
            ]
          },
          "metadata": {
            "tags": []
          },
          "execution_count": 122
        }
      ]
    },
    {
      "cell_type": "code",
      "metadata": {
        "id": "Q8_yE0t1mCZM"
      },
      "source": [
        "# change value datatype from string to float\n",
        "df_Bal_NY_merged[\"Household_Income_Stayed_in_Commuting_Zone_rP_gP_p75\"] = df_Bal_NY_merged[\"Household_Income_Stayed_in_Commuting_Zone_rP_gP_p75\"].astype(float)\n",
        "df_Bal_NY_merged[\"Household_Income_Stayed_in_Commuting_Zone_rP_gP_p50\"] = df_Bal_NY_merged[\"Household_Income_Stayed_in_Commuting_Zone_rP_gP_p50\"].astype(float)\n",
        "df_Bal_NY_merged[\"Household_Income_Stayed_in_Commuting_Zone_rP_gP_p25\"] = df_Bal_NY_merged[\"Household_Income_Stayed_in_Commuting_Zone_rP_gP_p25\"].astype(float)\n"
      ],
      "execution_count": null,
      "outputs": []
    },
    {
      "cell_type": "markdown",
      "metadata": {
        "id": "a2y2jtIrpLS3"
      },
      "source": [
        "## Create Pivot Tables for average household income "
      ]
    },
    {
      "cell_type": "code",
      "metadata": {
        "id": "63BTtQ9MooyZ"
      },
      "source": [
        "# pivot table\n",
        "df_pivot_table = pd.pivot_table(df_Bal_NY_merged,\n",
        "                                 index = [\"Name\"],\n",
        "                                 values = [\"Household_Income_Stayed_in_Commuting_Zone_rP_gP_p75\", \"Household_Income_Stayed_in_Commuting_Zone_rP_gP_p50\", \"Household_Income_Stayed_in_Commuting_Zone_rP_gP_p25\"],\n",
        "                                 aggfunc = np.mean).reset_index()"
      ],
      "execution_count": null,
      "outputs": []
    },
    {
      "cell_type": "code",
      "metadata": {
        "colab": {
          "base_uri": "https://localhost:8080/",
          "height": 161
        },
        "id": "I0ydEVCiqryc",
        "outputId": "e8926c33-e11a-4b12-d517-f42d82a08686"
      },
      "source": [
        "df_pivot_table"
      ],
      "execution_count": null,
      "outputs": [
        {
          "output_type": "execute_result",
          "data": {
            "text/html": [
              "<div>\n",
              "<style scoped>\n",
              "    .dataframe tbody tr th:only-of-type {\n",
              "        vertical-align: middle;\n",
              "    }\n",
              "\n",
              "    .dataframe tbody tr th {\n",
              "        vertical-align: top;\n",
              "    }\n",
              "\n",
              "    .dataframe thead th {\n",
              "        text-align: right;\n",
              "    }\n",
              "</style>\n",
              "<table border=\"1\" class=\"dataframe\">\n",
              "  <thead>\n",
              "    <tr style=\"text-align: right;\">\n",
              "      <th></th>\n",
              "      <th>Name</th>\n",
              "      <th>Household_Income_Stayed_in_Commuting_Zone_rP_gP_p25</th>\n",
              "      <th>Household_Income_Stayed_in_Commuting_Zone_rP_gP_p50</th>\n",
              "      <th>Household_Income_Stayed_in_Commuting_Zone_rP_gP_p75</th>\n",
              "    </tr>\n",
              "  </thead>\n",
              "  <tbody>\n",
              "    <tr>\n",
              "      <th>0</th>\n",
              "      <td>Baltimore, MD</td>\n",
              "      <td>24915.535398</td>\n",
              "      <td>31417.150442</td>\n",
              "      <td>38675.296460</td>\n",
              "    </tr>\n",
              "    <tr>\n",
              "      <th>1</th>\n",
              "      <td>New York, NY</td>\n",
              "      <td>34930.567164</td>\n",
              "      <td>40993.440299</td>\n",
              "      <td>48128.902985</td>\n",
              "    </tr>\n",
              "  </tbody>\n",
              "</table>\n",
              "</div>"
            ],
            "text/plain": [
              "            Name  ...  Household_Income_Stayed_in_Commuting_Zone_rP_gP_p75\n",
              "0  Baltimore, MD  ...                                       38675.296460  \n",
              "1   New York, NY  ...                                       48128.902985  \n",
              "\n",
              "[2 rows x 4 columns]"
            ]
          },
          "metadata": {
            "tags": []
          },
          "execution_count": 125
        }
      ]
    },
    {
      "cell_type": "markdown",
      "metadata": {
        "id": "V2Ry1nIWuC6l"
      },
      "source": [
        "## Create Figure 2: Average Residents Income by Parents' Income Level in Baltimore and New York "
      ]
    },
    {
      "cell_type": "code",
      "metadata": {
        "colab": {
          "base_uri": "https://localhost:8080/",
          "height": 542
        },
        "id": "mPmdaO5Fq0IG",
        "outputId": "9ffb7369-fe19-41aa-9a45-51662adaefa4"
      },
      "source": [
        "cities = [\"Baltimore, MD\", \"New York, NY\"]\n",
        "\n",
        "income_by_parent_income = go.Figure(\n",
        "    data=[go.Bar(name = \"Average Household Income with High Income Parents\", x = cities, y = df_pivot_table[\"Household_Income_Stayed_in_Commuting_Zone_rP_gP_p75\"]),\n",
        "          go.Bar(name = \"Average Household Income with Middle Income Parents\", x = cities, y = df_pivot_table[\"Household_Income_Stayed_in_Commuting_Zone_rP_gP_p50\"]),\n",
        "          go.Bar(name = \"Average Household Income with Low Income Parents\", x = cities, y = df_pivot_table[\"Household_Income_Stayed_in_Commuting_Zone_rP_gP_p25\"])])\n",
        "\n",
        "income_by_parent_income.update_layout(\n",
        "            title = \"Average Residents Income by Parents' Income Level in Baltimore and New York\",\n",
        "            xaxis_title = \"City\",\n",
        "            yaxis_title = \"Average Household Income\")\n"
      ],
      "execution_count": null,
      "outputs": [
        {
          "output_type": "display_data",
          "data": {
            "text/html": [
              "<html>\n",
              "<head><meta charset=\"utf-8\" /></head>\n",
              "<body>\n",
              "    <div>\n",
              "            <script src=\"https://cdnjs.cloudflare.com/ajax/libs/mathjax/2.7.5/MathJax.js?config=TeX-AMS-MML_SVG\"></script><script type=\"text/javascript\">if (window.MathJax) {MathJax.Hub.Config({SVG: {font: \"STIX-Web\"}});}</script>\n",
              "                <script type=\"text/javascript\">window.PlotlyConfig = {MathJaxConfig: 'local'};</script>\n",
              "        <script src=\"https://cdn.plot.ly/plotly-latest.min.js\"></script>    \n",
              "            <div id=\"abfe7bdc-325c-4817-8873-076f9657cdc6\" class=\"plotly-graph-div\" style=\"height:525px; width:100%;\"></div>\n",
              "            <script type=\"text/javascript\">\n",
              "                \n",
              "                    window.PLOTLYENV=window.PLOTLYENV || {};\n",
              "                    \n",
              "                if (document.getElementById(\"abfe7bdc-325c-4817-8873-076f9657cdc6\")) {\n",
              "                    Plotly.newPlot(\n",
              "                        'abfe7bdc-325c-4817-8873-076f9657cdc6',\n",
              "                        [{\"name\": \"Average Household Income with High Income Parents\", \"type\": \"bar\", \"x\": [\"Baltimore, MD\", \"New York, NY\"], \"y\": [38675.29646017699, 48128.90298507463]}, {\"name\": \"Average Household Income with Middle Income Parents\", \"type\": \"bar\", \"x\": [\"Baltimore, MD\", \"New York, NY\"], \"y\": [31417.150442477876, 40993.44029850746]}, {\"name\": \"Average Household Income with Low Income Parents\", \"type\": \"bar\", \"x\": [\"Baltimore, MD\", \"New York, NY\"], \"y\": [24915.535398230088, 34930.567164179105]}],\n",
              "                        {\"template\": {\"data\": {\"bar\": [{\"error_x\": {\"color\": \"#2a3f5f\"}, \"error_y\": {\"color\": \"#2a3f5f\"}, \"marker\": {\"line\": {\"color\": \"#E5ECF6\", \"width\": 0.5}}, \"type\": \"bar\"}], \"barpolar\": [{\"marker\": {\"line\": {\"color\": \"#E5ECF6\", \"width\": 0.5}}, \"type\": \"barpolar\"}], \"carpet\": [{\"aaxis\": {\"endlinecolor\": \"#2a3f5f\", \"gridcolor\": \"white\", \"linecolor\": \"white\", \"minorgridcolor\": \"white\", \"startlinecolor\": \"#2a3f5f\"}, \"baxis\": {\"endlinecolor\": \"#2a3f5f\", \"gridcolor\": \"white\", \"linecolor\": \"white\", \"minorgridcolor\": \"white\", \"startlinecolor\": \"#2a3f5f\"}, \"type\": \"carpet\"}], \"choropleth\": [{\"colorbar\": {\"outlinewidth\": 0, \"ticks\": \"\"}, \"type\": \"choropleth\"}], \"contour\": [{\"colorbar\": {\"outlinewidth\": 0, \"ticks\": \"\"}, \"colorscale\": [[0.0, \"#0d0887\"], [0.1111111111111111, \"#46039f\"], [0.2222222222222222, \"#7201a8\"], [0.3333333333333333, \"#9c179e\"], [0.4444444444444444, \"#bd3786\"], [0.5555555555555556, \"#d8576b\"], [0.6666666666666666, \"#ed7953\"], [0.7777777777777778, \"#fb9f3a\"], [0.8888888888888888, \"#fdca26\"], [1.0, \"#f0f921\"]], \"type\": \"contour\"}], \"contourcarpet\": [{\"colorbar\": {\"outlinewidth\": 0, \"ticks\": \"\"}, \"type\": \"contourcarpet\"}], \"heatmap\": [{\"colorbar\": {\"outlinewidth\": 0, \"ticks\": \"\"}, \"colorscale\": [[0.0, \"#0d0887\"], [0.1111111111111111, \"#46039f\"], [0.2222222222222222, \"#7201a8\"], [0.3333333333333333, \"#9c179e\"], [0.4444444444444444, \"#bd3786\"], [0.5555555555555556, \"#d8576b\"], [0.6666666666666666, \"#ed7953\"], [0.7777777777777778, \"#fb9f3a\"], [0.8888888888888888, \"#fdca26\"], [1.0, \"#f0f921\"]], \"type\": \"heatmap\"}], \"heatmapgl\": [{\"colorbar\": {\"outlinewidth\": 0, \"ticks\": \"\"}, \"colorscale\": [[0.0, \"#0d0887\"], [0.1111111111111111, \"#46039f\"], [0.2222222222222222, \"#7201a8\"], [0.3333333333333333, \"#9c179e\"], [0.4444444444444444, \"#bd3786\"], [0.5555555555555556, \"#d8576b\"], [0.6666666666666666, \"#ed7953\"], [0.7777777777777778, \"#fb9f3a\"], [0.8888888888888888, \"#fdca26\"], [1.0, \"#f0f921\"]], \"type\": \"heatmapgl\"}], \"histogram\": [{\"marker\": {\"colorbar\": {\"outlinewidth\": 0, \"ticks\": \"\"}}, \"type\": \"histogram\"}], \"histogram2d\": [{\"colorbar\": {\"outlinewidth\": 0, \"ticks\": \"\"}, \"colorscale\": [[0.0, \"#0d0887\"], [0.1111111111111111, \"#46039f\"], [0.2222222222222222, \"#7201a8\"], [0.3333333333333333, \"#9c179e\"], [0.4444444444444444, \"#bd3786\"], [0.5555555555555556, \"#d8576b\"], [0.6666666666666666, \"#ed7953\"], [0.7777777777777778, \"#fb9f3a\"], [0.8888888888888888, \"#fdca26\"], [1.0, \"#f0f921\"]], \"type\": \"histogram2d\"}], \"histogram2dcontour\": [{\"colorbar\": {\"outlinewidth\": 0, \"ticks\": \"\"}, \"colorscale\": [[0.0, \"#0d0887\"], [0.1111111111111111, \"#46039f\"], [0.2222222222222222, \"#7201a8\"], [0.3333333333333333, \"#9c179e\"], [0.4444444444444444, \"#bd3786\"], [0.5555555555555556, \"#d8576b\"], [0.6666666666666666, \"#ed7953\"], [0.7777777777777778, \"#fb9f3a\"], [0.8888888888888888, \"#fdca26\"], [1.0, \"#f0f921\"]], \"type\": \"histogram2dcontour\"}], \"mesh3d\": [{\"colorbar\": {\"outlinewidth\": 0, \"ticks\": \"\"}, \"type\": \"mesh3d\"}], \"parcoords\": [{\"line\": {\"colorbar\": {\"outlinewidth\": 0, \"ticks\": \"\"}}, \"type\": \"parcoords\"}], \"pie\": [{\"automargin\": true, \"type\": \"pie\"}], \"scatter\": [{\"marker\": {\"colorbar\": {\"outlinewidth\": 0, \"ticks\": \"\"}}, \"type\": \"scatter\"}], \"scatter3d\": [{\"line\": {\"colorbar\": {\"outlinewidth\": 0, \"ticks\": \"\"}}, \"marker\": {\"colorbar\": {\"outlinewidth\": 0, \"ticks\": \"\"}}, \"type\": \"scatter3d\"}], \"scattercarpet\": [{\"marker\": {\"colorbar\": {\"outlinewidth\": 0, \"ticks\": \"\"}}, \"type\": \"scattercarpet\"}], \"scattergeo\": [{\"marker\": {\"colorbar\": {\"outlinewidth\": 0, \"ticks\": \"\"}}, \"type\": \"scattergeo\"}], \"scattergl\": [{\"marker\": {\"colorbar\": {\"outlinewidth\": 0, \"ticks\": \"\"}}, \"type\": \"scattergl\"}], \"scattermapbox\": [{\"marker\": {\"colorbar\": {\"outlinewidth\": 0, \"ticks\": \"\"}}, \"type\": \"scattermapbox\"}], \"scatterpolar\": [{\"marker\": {\"colorbar\": {\"outlinewidth\": 0, \"ticks\": \"\"}}, \"type\": \"scatterpolar\"}], \"scatterpolargl\": [{\"marker\": {\"colorbar\": {\"outlinewidth\": 0, \"ticks\": \"\"}}, \"type\": \"scatterpolargl\"}], \"scatterternary\": [{\"marker\": {\"colorbar\": {\"outlinewidth\": 0, \"ticks\": \"\"}}, \"type\": \"scatterternary\"}], \"surface\": [{\"colorbar\": {\"outlinewidth\": 0, \"ticks\": \"\"}, \"colorscale\": [[0.0, \"#0d0887\"], [0.1111111111111111, \"#46039f\"], [0.2222222222222222, \"#7201a8\"], [0.3333333333333333, \"#9c179e\"], [0.4444444444444444, \"#bd3786\"], [0.5555555555555556, \"#d8576b\"], [0.6666666666666666, \"#ed7953\"], [0.7777777777777778, \"#fb9f3a\"], [0.8888888888888888, \"#fdca26\"], [1.0, \"#f0f921\"]], \"type\": \"surface\"}], \"table\": [{\"cells\": {\"fill\": {\"color\": \"#EBF0F8\"}, \"line\": {\"color\": \"white\"}}, \"header\": {\"fill\": {\"color\": \"#C8D4E3\"}, \"line\": {\"color\": \"white\"}}, \"type\": \"table\"}]}, \"layout\": {\"annotationdefaults\": {\"arrowcolor\": \"#2a3f5f\", \"arrowhead\": 0, \"arrowwidth\": 1}, \"coloraxis\": {\"colorbar\": {\"outlinewidth\": 0, \"ticks\": \"\"}}, \"colorscale\": {\"diverging\": [[0, \"#8e0152\"], [0.1, \"#c51b7d\"], [0.2, \"#de77ae\"], [0.3, \"#f1b6da\"], [0.4, \"#fde0ef\"], [0.5, \"#f7f7f7\"], [0.6, \"#e6f5d0\"], [0.7, \"#b8e186\"], [0.8, \"#7fbc41\"], [0.9, \"#4d9221\"], [1, \"#276419\"]], \"sequential\": [[0.0, \"#0d0887\"], [0.1111111111111111, \"#46039f\"], [0.2222222222222222, \"#7201a8\"], [0.3333333333333333, \"#9c179e\"], [0.4444444444444444, \"#bd3786\"], [0.5555555555555556, \"#d8576b\"], [0.6666666666666666, \"#ed7953\"], [0.7777777777777778, \"#fb9f3a\"], [0.8888888888888888, \"#fdca26\"], [1.0, \"#f0f921\"]], \"sequentialminus\": [[0.0, \"#0d0887\"], [0.1111111111111111, \"#46039f\"], [0.2222222222222222, \"#7201a8\"], [0.3333333333333333, \"#9c179e\"], [0.4444444444444444, \"#bd3786\"], [0.5555555555555556, \"#d8576b\"], [0.6666666666666666, \"#ed7953\"], [0.7777777777777778, \"#fb9f3a\"], [0.8888888888888888, \"#fdca26\"], [1.0, \"#f0f921\"]]}, \"colorway\": [\"#636efa\", \"#EF553B\", \"#00cc96\", \"#ab63fa\", \"#FFA15A\", \"#19d3f3\", \"#FF6692\", \"#B6E880\", \"#FF97FF\", \"#FECB52\"], \"font\": {\"color\": \"#2a3f5f\"}, \"geo\": {\"bgcolor\": \"white\", \"lakecolor\": \"white\", \"landcolor\": \"#E5ECF6\", \"showlakes\": true, \"showland\": true, \"subunitcolor\": \"white\"}, \"hoverlabel\": {\"align\": \"left\"}, \"hovermode\": \"closest\", \"mapbox\": {\"style\": \"light\"}, \"paper_bgcolor\": \"white\", \"plot_bgcolor\": \"#E5ECF6\", \"polar\": {\"angularaxis\": {\"gridcolor\": \"white\", \"linecolor\": \"white\", \"ticks\": \"\"}, \"bgcolor\": \"#E5ECF6\", \"radialaxis\": {\"gridcolor\": \"white\", \"linecolor\": \"white\", \"ticks\": \"\"}}, \"scene\": {\"xaxis\": {\"backgroundcolor\": \"#E5ECF6\", \"gridcolor\": \"white\", \"gridwidth\": 2, \"linecolor\": \"white\", \"showbackground\": true, \"ticks\": \"\", \"zerolinecolor\": \"white\"}, \"yaxis\": {\"backgroundcolor\": \"#E5ECF6\", \"gridcolor\": \"white\", \"gridwidth\": 2, \"linecolor\": \"white\", \"showbackground\": true, \"ticks\": \"\", \"zerolinecolor\": \"white\"}, \"zaxis\": {\"backgroundcolor\": \"#E5ECF6\", \"gridcolor\": \"white\", \"gridwidth\": 2, \"linecolor\": \"white\", \"showbackground\": true, \"ticks\": \"\", \"zerolinecolor\": \"white\"}}, \"shapedefaults\": {\"line\": {\"color\": \"#2a3f5f\"}}, \"ternary\": {\"aaxis\": {\"gridcolor\": \"white\", \"linecolor\": \"white\", \"ticks\": \"\"}, \"baxis\": {\"gridcolor\": \"white\", \"linecolor\": \"white\", \"ticks\": \"\"}, \"bgcolor\": \"#E5ECF6\", \"caxis\": {\"gridcolor\": \"white\", \"linecolor\": \"white\", \"ticks\": \"\"}}, \"title\": {\"x\": 0.05}, \"xaxis\": {\"automargin\": true, \"gridcolor\": \"white\", \"linecolor\": \"white\", \"ticks\": \"\", \"title\": {\"standoff\": 15}, \"zerolinecolor\": \"white\", \"zerolinewidth\": 2}, \"yaxis\": {\"automargin\": true, \"gridcolor\": \"white\", \"linecolor\": \"white\", \"ticks\": \"\", \"title\": {\"standoff\": 15}, \"zerolinecolor\": \"white\", \"zerolinewidth\": 2}}}, \"title\": {\"text\": \"Average Residents Income by Parents' Income Level in Baltimore and New York\"}, \"xaxis\": {\"title\": {\"text\": \"City\"}}, \"yaxis\": {\"title\": {\"text\": \"Average Household Income\"}}},\n",
              "                        {\"responsive\": true}\n",
              "                    ).then(function(){\n",
              "                            \n",
              "var gd = document.getElementById('abfe7bdc-325c-4817-8873-076f9657cdc6');\n",
              "var x = new MutationObserver(function (mutations, observer) {{\n",
              "        var display = window.getComputedStyle(gd).display;\n",
              "        if (!display || display === 'none') {{\n",
              "            console.log([gd, 'removed!']);\n",
              "            Plotly.purge(gd);\n",
              "            observer.disconnect();\n",
              "        }}\n",
              "}});\n",
              "\n",
              "// Listen for the removal of the full notebook cells\n",
              "var notebookContainer = gd.closest('#notebook-container');\n",
              "if (notebookContainer) {{\n",
              "    x.observe(notebookContainer, {childList: true});\n",
              "}}\n",
              "\n",
              "// Listen for the clearing of the current output cell\n",
              "var outputEl = gd.closest('.output');\n",
              "if (outputEl) {{\n",
              "    x.observe(outputEl, {childList: true});\n",
              "}}\n",
              "\n",
              "                        })\n",
              "                };\n",
              "                \n",
              "            </script>\n",
              "        </div>\n",
              "</body>\n",
              "</html>"
            ]
          },
          "metadata": {
            "tags": []
          }
        }
      ]
    },
    {
      "cell_type": "code",
      "metadata": {
        "colab": {
          "base_uri": "https://localhost:8080/",
          "height": 16
        },
        "id": "HN-IrKRqulvR",
        "outputId": "64774f26-7e65-450c-c7f6-baf9bbceb155"
      },
      "source": [
        "# save the figure2 as html \n",
        "income_by_parent_income.write_html(\"income_by_parent_income.html\")\n",
        "\n",
        "# download the file\n",
        "files.download(\"income_by_parent_income.html\")"
      ],
      "execution_count": null,
      "outputs": [
        {
          "output_type": "display_data",
          "data": {
            "application/javascript": [
              "\n",
              "    async function download(id, filename, size) {\n",
              "      if (!google.colab.kernel.accessAllowed) {\n",
              "        return;\n",
              "      }\n",
              "      const div = document.createElement('div');\n",
              "      const label = document.createElement('label');\n",
              "      label.textContent = `Downloading \"${filename}\": `;\n",
              "      div.appendChild(label);\n",
              "      const progress = document.createElement('progress');\n",
              "      progress.max = size;\n",
              "      div.appendChild(progress);\n",
              "      document.body.appendChild(div);\n",
              "\n",
              "      const buffers = [];\n",
              "      let downloaded = 0;\n",
              "\n",
              "      const channel = await google.colab.kernel.comms.open(id);\n",
              "      // Send a message to notify the kernel that we're ready.\n",
              "      channel.send({})\n",
              "\n",
              "      for await (const message of channel.messages) {\n",
              "        // Send a message to notify the kernel that we're ready.\n",
              "        channel.send({})\n",
              "        if (message.buffers) {\n",
              "          for (const buffer of message.buffers) {\n",
              "            buffers.push(buffer);\n",
              "            downloaded += buffer.byteLength;\n",
              "            progress.value = downloaded;\n",
              "          }\n",
              "        }\n",
              "      }\n",
              "      const blob = new Blob(buffers, {type: 'application/binary'});\n",
              "      const a = document.createElement('a');\n",
              "      a.href = window.URL.createObjectURL(blob);\n",
              "      a.download = filename;\n",
              "      div.appendChild(a);\n",
              "      a.click();\n",
              "      div.remove();\n",
              "    }\n",
              "  "
            ],
            "text/plain": [
              "<IPython.core.display.Javascript object>"
            ]
          },
          "metadata": {
            "tags": []
          }
        },
        {
          "output_type": "display_data",
          "data": {
            "application/javascript": [
              "download(\"download_cddf9b6f-524d-40e2-984c-34db880f7195\", \"income_by_parent_income.html\", 3294524)"
            ],
            "text/plain": [
              "<IPython.core.display.Javascript object>"
            ]
          },
          "metadata": {
            "tags": []
          }
        }
      ]
    }
  ]
}